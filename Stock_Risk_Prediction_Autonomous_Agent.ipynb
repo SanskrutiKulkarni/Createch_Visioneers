{
  "nbformat": 4,
  "nbformat_minor": 0,
  "metadata": {
    "colab": {
      "provenance": []
    },
    "kernelspec": {
      "name": "python3",
      "display_name": "Python 3"
    },
    "language_info": {
      "name": "python"
    }
  },
  "cells": [
    {
      "cell_type": "code",
      "execution_count": 1,
      "metadata": {
        "colab": {
          "base_uri": "https://localhost:8080/"
        },
        "id": "jmlSYZPlJgGT",
        "outputId": "a9fdc149-2f22-41a2-9bb9-0d95c2c72338"
      },
      "outputs": [
        {
          "output_type": "stream",
          "name": "stdout",
          "text": [
            "Requirement already satisfied: yfinance in /usr/local/lib/python3.11/dist-packages (0.2.54)\n",
            "Collecting autogen\n",
            "  Downloading autogen-0.7.5-py3-none-any.whl.metadata (19 kB)\n",
            "Requirement already satisfied: scikit-learn in /usr/local/lib/python3.11/dist-packages (1.6.1)\n",
            "Requirement already satisfied: pandas in /usr/local/lib/python3.11/dist-packages (2.2.2)\n",
            "Requirement already satisfied: numpy in /usr/local/lib/python3.11/dist-packages (1.26.4)\n",
            "Requirement already satisfied: requests>=2.31 in /usr/local/lib/python3.11/dist-packages (from yfinance) (2.32.3)\n",
            "Requirement already satisfied: multitasking>=0.0.7 in /usr/local/lib/python3.11/dist-packages (from yfinance) (0.0.11)\n",
            "Requirement already satisfied: platformdirs>=2.0.0 in /usr/local/lib/python3.11/dist-packages (from yfinance) (4.3.6)\n",
            "Requirement already satisfied: pytz>=2022.5 in /usr/local/lib/python3.11/dist-packages (from yfinance) (2025.1)\n",
            "Requirement already satisfied: frozendict>=2.3.4 in /usr/local/lib/python3.11/dist-packages (from yfinance) (2.4.6)\n",
            "Requirement already satisfied: peewee>=3.16.2 in /usr/local/lib/python3.11/dist-packages (from yfinance) (3.17.9)\n",
            "Requirement already satisfied: beautifulsoup4>=4.11.1 in /usr/local/lib/python3.11/dist-packages (from yfinance) (4.13.3)\n",
            "Collecting pyautogen==0.7.5 (from autogen)\n",
            "  Downloading pyautogen-0.7.5-py3-none-any.whl.metadata (27 kB)\n",
            "Collecting asyncer==0.0.8 (from pyautogen==0.7.5->autogen)\n",
            "  Downloading asyncer-0.0.8-py3-none-any.whl.metadata (6.7 kB)\n",
            "Collecting diskcache (from pyautogen==0.7.5->autogen)\n",
            "  Downloading diskcache-5.6.3-py3-none-any.whl.metadata (20 kB)\n",
            "Collecting docker (from pyautogen==0.7.5->autogen)\n",
            "  Downloading docker-7.1.0-py3-none-any.whl.metadata (3.8 kB)\n",
            "Collecting fast-depends<3,>=2.4.12 (from pyautogen==0.7.5->autogen)\n",
            "  Downloading fast_depends-2.4.12-py3-none-any.whl.metadata (7.6 kB)\n",
            "Requirement already satisfied: openai>=1.58 in /usr/local/lib/python3.11/dist-packages (from pyautogen==0.7.5->autogen) (1.61.1)\n",
            "Requirement already satisfied: packaging in /usr/local/lib/python3.11/dist-packages (from pyautogen==0.7.5->autogen) (24.2)\n",
            "Requirement already satisfied: pydantic<3,>=2.6.1 in /usr/local/lib/python3.11/dist-packages (from pyautogen==0.7.5->autogen) (2.10.6)\n",
            "Collecting python-dotenv (from pyautogen==0.7.5->autogen)\n",
            "  Downloading python_dotenv-1.0.1-py3-none-any.whl.metadata (23 kB)\n",
            "Requirement already satisfied: termcolor in /usr/local/lib/python3.11/dist-packages (from pyautogen==0.7.5->autogen) (2.5.0)\n",
            "Collecting tiktoken (from pyautogen==0.7.5->autogen)\n",
            "  Downloading tiktoken-0.9.0-cp311-cp311-manylinux_2_17_x86_64.manylinux2014_x86_64.whl.metadata (6.7 kB)\n",
            "Requirement already satisfied: websockets<15,>=14 in /usr/local/lib/python3.11/dist-packages (from pyautogen==0.7.5->autogen) (14.2)\n",
            "Requirement already satisfied: anyio<5.0,>=3.4.0 in /usr/local/lib/python3.11/dist-packages (from asyncer==0.0.8->pyautogen==0.7.5->autogen) (3.7.1)\n",
            "Requirement already satisfied: scipy>=1.6.0 in /usr/local/lib/python3.11/dist-packages (from scikit-learn) (1.13.1)\n",
            "Requirement already satisfied: joblib>=1.2.0 in /usr/local/lib/python3.11/dist-packages (from scikit-learn) (1.4.2)\n",
            "Requirement already satisfied: threadpoolctl>=3.1.0 in /usr/local/lib/python3.11/dist-packages (from scikit-learn) (3.5.0)\n",
            "Requirement already satisfied: python-dateutil>=2.8.2 in /usr/local/lib/python3.11/dist-packages (from pandas) (2.8.2)\n",
            "Requirement already satisfied: tzdata>=2022.7 in /usr/local/lib/python3.11/dist-packages (from pandas) (2025.1)\n",
            "Requirement already satisfied: soupsieve>1.2 in /usr/local/lib/python3.11/dist-packages (from beautifulsoup4>=4.11.1->yfinance) (2.6)\n",
            "Requirement already satisfied: typing-extensions>=4.0.0 in /usr/local/lib/python3.11/dist-packages (from beautifulsoup4>=4.11.1->yfinance) (4.12.2)\n",
            "Requirement already satisfied: six>=1.5 in /usr/local/lib/python3.11/dist-packages (from python-dateutil>=2.8.2->pandas) (1.17.0)\n",
            "Requirement already satisfied: charset-normalizer<4,>=2 in /usr/local/lib/python3.11/dist-packages (from requests>=2.31->yfinance) (3.4.1)\n",
            "Requirement already satisfied: idna<4,>=2.5 in /usr/local/lib/python3.11/dist-packages (from requests>=2.31->yfinance) (3.10)\n",
            "Requirement already satisfied: urllib3<3,>=1.21.1 in /usr/local/lib/python3.11/dist-packages (from requests>=2.31->yfinance) (2.3.0)\n",
            "Requirement already satisfied: certifi>=2017.4.17 in /usr/local/lib/python3.11/dist-packages (from requests>=2.31->yfinance) (2025.1.31)\n",
            "Requirement already satisfied: distro<2,>=1.7.0 in /usr/local/lib/python3.11/dist-packages (from openai>=1.58->pyautogen==0.7.5->autogen) (1.9.0)\n",
            "Requirement already satisfied: httpx<1,>=0.23.0 in /usr/local/lib/python3.11/dist-packages (from openai>=1.58->pyautogen==0.7.5->autogen) (0.28.1)\n",
            "Requirement already satisfied: jiter<1,>=0.4.0 in /usr/local/lib/python3.11/dist-packages (from openai>=1.58->pyautogen==0.7.5->autogen) (0.8.2)\n",
            "Requirement already satisfied: sniffio in /usr/local/lib/python3.11/dist-packages (from openai>=1.58->pyautogen==0.7.5->autogen) (1.3.1)\n",
            "Requirement already satisfied: tqdm>4 in /usr/local/lib/python3.11/dist-packages (from openai>=1.58->pyautogen==0.7.5->autogen) (4.67.1)\n",
            "Requirement already satisfied: annotated-types>=0.6.0 in /usr/local/lib/python3.11/dist-packages (from pydantic<3,>=2.6.1->pyautogen==0.7.5->autogen) (0.7.0)\n",
            "Requirement already satisfied: pydantic-core==2.27.2 in /usr/local/lib/python3.11/dist-packages (from pydantic<3,>=2.6.1->pyautogen==0.7.5->autogen) (2.27.2)\n",
            "Requirement already satisfied: regex>=2022.1.18 in /usr/local/lib/python3.11/dist-packages (from tiktoken->pyautogen==0.7.5->autogen) (2024.11.6)\n",
            "Requirement already satisfied: httpcore==1.* in /usr/local/lib/python3.11/dist-packages (from httpx<1,>=0.23.0->openai>=1.58->pyautogen==0.7.5->autogen) (1.0.7)\n",
            "Requirement already satisfied: h11<0.15,>=0.13 in /usr/local/lib/python3.11/dist-packages (from httpcore==1.*->httpx<1,>=0.23.0->openai>=1.58->pyautogen==0.7.5->autogen) (0.14.0)\n",
            "Downloading autogen-0.7.5-py3-none-any.whl (12 kB)\n",
            "Downloading pyautogen-0.7.5-py3-none-any.whl (606 kB)\n",
            "\u001b[2K   \u001b[90m━━━━━━━━━━━━━━━━━━━━━━━━━━━━━━━━━━━━━━━━\u001b[0m \u001b[32m607.0/607.0 kB\u001b[0m \u001b[31m9.7 MB/s\u001b[0m eta \u001b[36m0:00:00\u001b[0m\n",
            "\u001b[?25hDownloading asyncer-0.0.8-py3-none-any.whl (9.2 kB)\n",
            "Downloading fast_depends-2.4.12-py3-none-any.whl (17 kB)\n",
            "Downloading diskcache-5.6.3-py3-none-any.whl (45 kB)\n",
            "\u001b[2K   \u001b[90m━━━━━━━━━━━━━━━━━━━━━━━━━━━━━━━━━━━━━━━━\u001b[0m \u001b[32m45.5/45.5 kB\u001b[0m \u001b[31m3.0 MB/s\u001b[0m eta \u001b[36m0:00:00\u001b[0m\n",
            "\u001b[?25hDownloading docker-7.1.0-py3-none-any.whl (147 kB)\n",
            "\u001b[2K   \u001b[90m━━━━━━━━━━━━━━━━━━━━━━━━━━━━━━━━━━━━━━━━\u001b[0m \u001b[32m147.8/147.8 kB\u001b[0m \u001b[31m11.2 MB/s\u001b[0m eta \u001b[36m0:00:00\u001b[0m\n",
            "\u001b[?25hDownloading python_dotenv-1.0.1-py3-none-any.whl (19 kB)\n",
            "Downloading tiktoken-0.9.0-cp311-cp311-manylinux_2_17_x86_64.manylinux2014_x86_64.whl (1.2 MB)\n",
            "\u001b[2K   \u001b[90m━━━━━━━━━━━━━━━━━━━━━━━━━━━━━━━━━━━━━━━━\u001b[0m \u001b[32m1.2/1.2 MB\u001b[0m \u001b[31m24.3 MB/s\u001b[0m eta \u001b[36m0:00:00\u001b[0m\n",
            "\u001b[?25hInstalling collected packages: python-dotenv, diskcache, tiktoken, docker, asyncer, fast-depends, pyautogen, autogen\n",
            "Successfully installed asyncer-0.0.8 autogen-0.7.5 diskcache-5.6.3 docker-7.1.0 fast-depends-2.4.12 pyautogen-0.7.5 python-dotenv-1.0.1 tiktoken-0.9.0\n"
          ]
        }
      ],
      "source": [
        "!pip install yfinance autogen scikit-learn pandas numpy"
      ]
    },
    {
      "cell_type": "code",
      "source": [
        "import yfinance as yf\n",
        "import numpy as np\n",
        "import pandas as pd\n",
        "from sklearn.ensemble import RandomForestClassifier\n",
        "from sklearn.preprocessing import StandardScaler\n",
        "\n",
        "# Define construction-related stock symbols\n",
        "construction_stocks = [\"CAT\", \"VMC\", \"XHB\"]  # Caterpillar, Vulcan Materials, Homebuilders ETF\n",
        "\n",
        "# Function to fetch stock data\n",
        "def fetch_stock_data(stock_symbol, period=\"3mo\", interval=\"1d\"):\n",
        "    stock = yf.Ticker(stock_symbol)\n",
        "    df = stock.history(period=period, interval=interval)\n",
        "    df[\"Return\"] = df[\"Close\"].pct_change()  # Daily return\n",
        "    df[\"Volatility\"] = df[\"Return\"].rolling(window=5).std()  # Volatility calculation\n",
        "    df[\"Stock\"] = stock_symbol  # Identify stock\n",
        "    df.dropna(inplace=True)\n",
        "    return df\n",
        "\n",
        "# Fetch data for all stocks\n",
        "stock_data = {stock: fetch_stock_data(stock) for stock in construction_stocks}\n",
        "\n",
        "# Combine into a single dataset\n",
        "dataframes = []\n",
        "for stock, df in stock_data.items():\n",
        "    df[\"Stock\"] = stock\n",
        "    dataframes.append(df)\n",
        "\n",
        "final_df = pd.concat(dataframes)\n",
        "\n",
        "# Feature Engineering\n",
        "final_df[\"Moving_Avg_10\"] = final_df[\"Close\"].rolling(window=10).mean()\n",
        "# final_df[\"Moving_Avg_10\"].fillna(final_df[\"Close\"].rolling(window=5).mean(), inplace=True)  # Handle NaN\n",
        "final_df[\"Moving_Avg_10\"] = final_df[\"Moving_Avg_10\"].fillna(final_df[\"Close\"].rolling(window=5).mean())\n",
        "# Lowered Risk Threshold to 50th Percentile\n",
        "final_df[\"Risk_Level\"] = np.where(final_df[\"Volatility\"] > final_df[\"Volatility\"].quantile(0.50), 1, 0)\n",
        "\n",
        "# Print data to verify risk levels\n",
        "features = df[[\"Close\", \"Return\", \"Volatility\"]].bfill()\n",
        "\n",
        "# Prepare for model training\n",
        "features = [\"Close\", \"Return\", \"Volatility\", \"Moving_Avg_10\"]\n",
        "X = final_df[features]\n",
        "y = final_df[\"Risk_Level\"]\n",
        "\n",
        "# Scale data\n",
        "scaler = StandardScaler()\n",
        "X_scaled = scaler.fit_transform(X)\n",
        "\n",
        "# Train a Random Forest model\n",
        "model = RandomForestClassifier(n_estimators=100, random_state=42)\n",
        "model.fit(X_scaled, y)\n",
        "\n",
        "import time\n",
        "\n",
        "def predict_risk():\n",
        "    results = []\n",
        "    for stock in construction_stocks:\n",
        "        df = fetch_stock_data(stock, period=\"6mo\", interval=\"1d\").tail(1)  # Fetch last day's data\n",
        "\n",
        "        if df.empty:\n",
        "            print(f\"No recent stock data available for {stock}. Retrying with longer period...\")\n",
        "            time.sleep(2)  # Short delay before retrying\n",
        "            df = fetch_stock_data(stock, period=\"1y\", interval=\"1d\").tail(1)  # Try fetching 1 year data\n",
        "\n",
        "        if not df.empty:\n",
        "            features = df[[\"Close\", \"Return\", \"Volatility\"]].bfill()\n",
        "            features[\"Moving_Avg_10\"] = df[\"Close\"].rolling(window=10).mean()\n",
        "            features_scaled = scaler.transform(features)\n",
        "            risk_pred = model.predict(features_scaled)\n",
        "            results.append({\"Stock\": stock, \"Predicted Risk\": \"High\" if risk_pred[0] == 1 else \"Low\"})\n",
        "        else:\n",
        "            print(f\"Skipping {stock}, still no data after retry.\")\n",
        "\n",
        "    return results\n",
        "\n",
        "# **Run the updated real-time prediction**\n",
        "risk_predictions = predict_risk()\n",
        "\n",
        "# **Display predictions**\n",
        "print(\"\\nFinal Risk Predictions:\")\n",
        "for res in risk_predictions:\n",
        "    print(f\"Stock: {res['Stock']} | Predicted Risk Level: {res['Predicted Risk']}\")\n"
      ],
      "metadata": {
        "colab": {
          "base_uri": "https://localhost:8080/"
        },
        "id": "F-rfaVRVJzN5",
        "outputId": "ccadb4eb-b29d-4942-dbf0-c8cc5e6599ed"
      },
      "execution_count": 4,
      "outputs": [
        {
          "output_type": "stream",
          "name": "stdout",
          "text": [
            "\n",
            "Final Risk Predictions:\n",
            "Stock: CAT | Predicted Risk Level: Low\n",
            "Stock: VMC | Predicted Risk Level: High\n",
            "Stock: XHB | Predicted Risk Level: High\n"
          ]
        }
      ]
    },
    {
      "cell_type": "code",
      "source": [
        "print(final_df.head())  # Check if data is retrieved"
      ],
      "metadata": {
        "colab": {
          "base_uri": "https://localhost:8080/"
        },
        "id": "bMFevxJqKWwG",
        "outputId": "50a17858-f646-4645-bc57-dc71cedecc6e"
      },
      "execution_count": 5,
      "outputs": [
        {
          "output_type": "stream",
          "name": "stdout",
          "text": [
            "                                 Open        High         Low       Close  \\\n",
            "Date                                                                        \n",
            "2024-12-02 00:00:00-05:00  405.971696  406.659178  399.326076  401.039795   \n",
            "2024-12-03 00:00:00-05:00  402.046085  404.048753  395.151379  397.801666   \n",
            "2024-12-04 00:00:00-05:00  397.114182  400.003583  394.683092  398.050751   \n",
            "2024-12-05 00:00:00-05:00  399.037119  399.963715  392.770086  393.537292   \n",
            "2024-12-06 00:00:00-05:00  396.695696  398.279885  391.305453  393.587097   \n",
            "\n",
            "                            Volume  Dividends  Stock Splits    Return  \\\n",
            "Date                                                                    \n",
            "2024-12-02 00:00:00-05:00  1548500        0.0           0.0 -0.008865   \n",
            "2024-12-03 00:00:00-05:00  1716200        0.0           0.0 -0.008074   \n",
            "2024-12-04 00:00:00-05:00  1193800        0.0           0.0  0.000626   \n",
            "2024-12-05 00:00:00-05:00  1291400        0.0           0.0 -0.011339   \n",
            "2024-12-06 00:00:00-05:00  1331000        0.0           0.0  0.000127   \n",
            "\n",
            "                           Volatility Stock  Capital Gains  Moving_Avg_10  \\\n",
            "Date                                                                        \n",
            "2024-12-02 00:00:00-05:00    0.012589   CAT            NaN            NaN   \n",
            "2024-12-03 00:00:00-05:00    0.008084   CAT            NaN            NaN   \n",
            "2024-12-04 00:00:00-05:00    0.007045   CAT            NaN            NaN   \n",
            "2024-12-05 00:00:00-05:00    0.007320   CAT            NaN            NaN   \n",
            "2024-12-06 00:00:00-05:00    0.005505   CAT            NaN      396.80332   \n",
            "\n",
            "                           Risk_Level  \n",
            "Date                                   \n",
            "2024-12-02 00:00:00-05:00           1  \n",
            "2024-12-03 00:00:00-05:00           0  \n",
            "2024-12-04 00:00:00-05:00           0  \n",
            "2024-12-05 00:00:00-05:00           0  \n",
            "2024-12-06 00:00:00-05:00           0  \n"
          ]
        }
      ]
    },
    {
      "cell_type": "code",
      "source": [
        "import pandas as pd\n",
        "\n",
        "risk_predictions = predict_risk()\n",
        "\n",
        "# Convert predictions into a DataFrame\n",
        "stock_risk_df = pd.DataFrame(risk_predictions)\n",
        "stock_risk_df[\"Risk_Score\"] = stock_risk_df[\"Predicted Risk\"].apply(lambda x: 1 if x == \"High\" else 0)\n",
        "\n",
        "# Save to CSV\n",
        "stock_risk_df.to_csv(\"stock_risk.csv\", index=False)\n",
        "\n",
        "print(\"Stock risk results saved!\")"
      ],
      "metadata": {
        "colab": {
          "base_uri": "https://localhost:8080/"
        },
        "id": "SJhew5OM0qmV",
        "outputId": "c8adf78c-b3b1-4722-817f-f5fbc622b8a6"
      },
      "execution_count": 6,
      "outputs": [
        {
          "output_type": "stream",
          "name": "stdout",
          "text": [
            "Stock risk results saved!\n"
          ]
        }
      ]
    }
  ]
}