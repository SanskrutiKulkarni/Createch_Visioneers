{
  "nbformat": 4,
  "nbformat_minor": 0,
  "metadata": {
    "colab": {
      "provenance": []
    },
    "kernelspec": {
      "name": "python3",
      "display_name": "Python 3"
    },
    "language_info": {
      "name": "python"
    }
  },
  "cells": [
    {
      "cell_type": "code",
      "execution_count": 1,
      "metadata": {
        "colab": {
          "base_uri": "https://localhost:8080/"
        },
        "id": "LgutHnqAz5xq",
        "outputId": "1e28407b-71eb-414c-b0be-339716124f3a"
      },
      "outputs": [
        {
          "output_type": "stream",
          "name": "stdout",
          "text": [
            "   Month  Past_Absences  Holidays  Predicted_Shortage\n",
            "0    Jan             10         1                   0\n",
            "1    Feb             12         0                   0\n",
            "2    Mar             15         0                   0\n",
            "3    Apr             18         1                   1\n",
            "4    May             25         2                   1\n",
            "5    Jun             30         3                   1\n",
            "6    Jul             35         3                   1\n",
            "7    Aug             40         2                   1\n",
            "8    Sep             38         1                   1\n",
            "9    Oct             28         2                   1\n",
            "10   Nov             20         1                   0\n",
            "11   Dec             12         1                   0\n"
          ]
        }
      ],
      "source": [
        "import pandas as pd\n",
        "from sklearn.ensemble import RandomForestClassifier\n",
        "from sklearn.model_selection import train_test_split\n",
        "\n",
        "# Sample workforce absenteeism data, we need company's database\n",
        "data = {\n",
        "    \"Month\": [\"Jan\", \"Feb\", \"Mar\", \"Apr\", \"May\", \"Jun\", \"Jul\", \"Aug\", \"Sep\", \"Oct\", \"Nov\", \"Dec\"],\n",
        "    \"Past_Absences\": [10, 12, 15, 18, 25, 30, 35, 40, 38, 28, 20, 12],  # Hypothetical values\n",
        "    \"Holidays\": [1, 0, 0, 1, 2, 3, 3, 2, 1, 2, 1, 1],  # Major festival days\n",
        "    \"Predicted_Shortage\": [0, 0, 0, 1, 1, 1, 1, 1, 1, 1, 0, 0]  # 1 = High risk, 0 = Low risk\n",
        "}\n",
        "\n",
        "# Convert to DataFrame\n",
        "df = pd.DataFrame(data)\n",
        "\n",
        "# Prepare Data\n",
        "X = df[[\"Past_Absences\", \"Holidays\"]]\n",
        "y = df[\"Predicted_Shortage\"]\n",
        "\n",
        "# Train a simple model\n",
        "model = RandomForestClassifier(n_estimators=100, random_state=42)\n",
        "model.fit(X, y)\n",
        "\n",
        "# Predict worker shortages\n",
        "predictions = model.predict(X)\n",
        "df[\"Predicted_Shortage\"] = predictions\n",
        "\n",
        "# Show results\n",
        "print(df)"
      ]
    },
    {
      "cell_type": "code",
      "source": [
        "import pandas as pd\n",
        "\n",
        "# Save workforce shortage predictions\n",
        "df.to_csv(\"workforce_risk.csv\", index=False)\n",
        "\n",
        "print(\"Workforce risk results saved!\")\n"
      ],
      "metadata": {
        "colab": {
          "base_uri": "https://localhost:8080/"
        },
        "id": "tZjUsxKG0wRj",
        "outputId": "b8e9e182-06c0-483b-cf5a-bb552e1d05ea"
      },
      "execution_count": 2,
      "outputs": [
        {
          "output_type": "stream",
          "name": "stdout",
          "text": [
            "Workforce risk results saved!\n"
          ]
        }
      ]
    }
  ]
}